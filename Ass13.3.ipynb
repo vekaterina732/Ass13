{
 "cells": [
  {
   "cell_type": "code",
   "execution_count": 2,
   "id": "6d79797f-9f0c-4024-a935-01026d6db0b2",
   "metadata": {
    "tags": []
   },
   "outputs": [
    {
     "name": "stdout",
     "output_type": "stream",
     "text": [
      "4\n",
      "7\n",
      "9\n",
      "10\n",
      "10\n",
      "15\n",
      "19\n",
      "22\n",
      "24\n",
      "30\n",
      "35\n",
      "39\n",
      "46\n",
      "52\n",
      "60\n"
     ]
    }
   ],
   "source": [
    "a = 0\n",
    "n = 5  # You can change this value to test with different 'n'\n",
    "for i in range(n):\n",
    "    for j in reversed(range(i, n)):\n",
    "        a = a + i + j\n",
    "        print(a)"
   ]
  },
  {
   "cell_type": "code",
   "execution_count": 3,
   "id": "4406bf14-0cfa-4e66-a967-74c41e8448cb",
   "metadata": {
    "tags": []
   },
   "outputs": [
    {
     "name": "stdout",
     "output_type": "stream",
     "text": [
      "0\n",
      "2\n",
      "4\n",
      "6\n",
      "8\n"
     ]
    }
   ],
   "source": [
    "n = 5  # You can change this value to test with different 'n'\n",
    "for i in range(n):\n",
    "    i *= 2\n",
    "    print(i)"
   ]
  },
  {
   "cell_type": "code",
   "execution_count": 4,
   "id": "1cac8a19-a874-4ec0-8f6c-03c185e84125",
   "metadata": {
    "tags": []
   },
   "outputs": [
    {
     "name": "stdout",
     "output_type": "stream",
     "text": [
      "0\n"
     ]
    }
   ],
   "source": [
    "def algo(items):\n",
    "    print(min(items) + 5)\n",
    "\n",
    "algo([4, 5, 6, 8, -5, 10, 12])"
   ]
  },
  {
   "cell_type": "code",
   "execution_count": 5,
   "id": "6e4093fd-bdce-478a-9fec-656597096561",
   "metadata": {
    "tags": []
   },
   "outputs": [
    {
     "name": "stdout",
     "output_type": "stream",
     "text": [
      "750\n"
     ]
    }
   ],
   "source": [
    "def cubic_function(n):\n",
    "    total = 0\n",
    "    for i in range(n):\n",
    "        for j in range(n):\n",
    "            for k in range(n):\n",
    "                total += i + j + k\n",
    "    return total\n",
    "\n",
    "n = 5  # You can change this value to test with different 'n'\n",
    "print(cubic_function(n))"
   ]
  },
  {
   "cell_type": "code",
   "execution_count": null,
   "id": "503626a5-da2a-44f1-b8eb-cfc6c2c8e50e",
   "metadata": {},
   "outputs": [],
   "source": []
  }
 ],
 "metadata": {
  "kernelspec": {
   "display_name": "Python 3 (ipykernel)",
   "language": "python",
   "name": "python3"
  },
  "language_info": {
   "codemirror_mode": {
    "name": "ipython",
    "version": 3
   },
   "file_extension": ".py",
   "mimetype": "text/x-python",
   "name": "python",
   "nbconvert_exporter": "python",
   "pygments_lexer": "ipython3",
   "version": "3.10.8"
  }
 },
 "nbformat": 4,
 "nbformat_minor": 5
}
